{
  "nbformat": 4,
  "nbformat_minor": 0,
  "metadata": {
    "colab": {
      "name": "ProbProject.ipynb",
      "version": "0.3.2",
      "provenance": [],
      "collapsed_sections": []
    },
    "kernelspec": {
      "name": "python3",
      "display_name": "Python 3"
    }
  },
  "cells": [
    {
      "cell_type": "markdown",
      "metadata": {
        "id": "qBg-e4BK_zmJ",
        "colab_type": "text"
      },
      "source": [
        "# 1 Projeto de Probabilidade\n",
        "### Alunos: Camila Duarte e Leonandro Gurgel"
      ]
    },
    {
      "cell_type": "markdown",
      "metadata": {
        "id": "Y_bkZb02AInG",
        "colab_type": "text"
      },
      "source": [
        "  Esse projeto tem o intúito de simular o trabalho de um **analista de dados** em uma **empresa que cria aplicativos para dispositivos móveis Android e iOS**. Essa empresa tem as seguintes especificidades: só há a criação de aplicativos grátis para instalação, a principal fonte de renda são os anúncios presentes no aplicativo e nossa receita para qualquer aplicativo é influenciada principalmente pelo número de usuários que usam nosso aplicativo.\n",
        "  \n",
        "  Nosso objetivo nesse projeto é aprender como é o trabalho de um analista de dados, **analisando dados** para que nossos desenvolvedores saibam **quais tipos de aplicativos podem atrair mais usuários.**"
      ]
    },
    {
      "cell_type": "markdown",
      "metadata": {
        "id": "YShWRJYEGd8D",
        "colab_type": "text"
      },
      "source": [
        "## 2 Abrindo e explorando os dados"
      ]
    },
    {
      "cell_type": "code",
      "metadata": {
        "id": "ac5-NX5lGeT8",
        "colab_type": "code",
        "colab": {}
      },
      "source": [
        "def explore_data(dataset, start, end, rows_and_columns=False):\n",
        "    dataset_slice = dataset[start:end]    \n",
        "    for row in dataset_slice:\n",
        "        print(row)\n",
        "        print('\\n') # adds a new (empty) line after each row\n",
        "\n",
        "    if rows_and_columns:\n",
        "        print('Number of rows:', len(dataset))\n",
        "        print('Number of columns:', len(dataset[0]))\n",
        "        \n",
        "'''Abrindo conjunto de dados da Apple Store e Google Play e \n",
        "        transformando em uma lista de listas:'''\n",
        "from csv import reader\n",
        "AppleFile = list(reader(open(\"AppleStore.csv\")))\n",
        "GoogleFile = list(reader(open(\"googleplaystore.csv\")))\n",
        "\n",
        "'''Explorando os dois conjuntos de dados com \n",
        "          a função explore_data():'''\n",
        "#Printa as primeiras 5 linhas do conjunto de dados(sem o cabeçalho) \n",
        "#      e o número de linhas e colunas de cada um:\n",
        "print(\">>> Dados das primeiras 5 linhas-Apple Store:\")\n",
        "print(explore_data(AppleFile, 1, 6, True), \"\\n\")\n",
        "print(\">>> Dados das primeiras 5 linhas-Google Play:\")\n",
        "print(explore_data(GoogleFile, 1, 6, True), \"\\n\")\n",
        "\n",
        "'''Printando o nome das colunas:'''\n",
        "print(\">>> Nome das primeiras 5 colunas-Apple Store:\")\n",
        "for i in range(1, 6):\n",
        "  print(\"\\t\", AppleFile[i][1])\n",
        "print(\"\\n>>> Nome das primeiras 5 colunas-Google Play:\")\n",
        "for i in range(1, 6):\n",
        "  print(\"\\t\", GoogleFile[i][0])"
      ],
      "execution_count": 0,
      "outputs": []
    },
    {
      "cell_type": "markdown",
      "metadata": {
        "id": "qHxqhTtFPZab",
        "colab_type": "text"
      },
      "source": [
        "## 3 Deletando dados errados"
      ]
    },
    {
      "cell_type": "code",
      "metadata": {
        "id": "MML469CuPd88",
        "colab_type": "code",
        "colab": {}
      },
      "source": [
        "print(GoogleFile[10473]) #Possui erro como: esta faltando a entrada está \"Rating\"\n",
        "del GoogleFile[10473] #Deletando dado errado"
      ],
      "execution_count": 0,
      "outputs": []
    },
    {
      "cell_type": "markdown",
      "metadata": {
        "id": "3bNYxcs3BmVU",
        "colab_type": "text"
      },
      "source": [
        "## 4 Removendo Entradas Duplicadas: Parte Um"
      ]
    },
    {
      "cell_type": "code",
      "metadata": {
        "id": "iBObQDJ6BswU",
        "colab_type": "code",
        "colab": {}
      },
      "source": [
        "#EXPLICAÇÃO E CÓDIGO DOS DOIS PRIMEIROS PONTOS:\n",
        "'''Criaremos 2 listas a seguir onde, dentro de um for, saberemos se\n",
        "existem elementos duplicados(adicionando tais apps à lista de elementos duplicados\n",
        "quando isto ocorrer), e quantos são(usando a função len no vetor appsDuplicados): '''\n",
        "appsUnicos = []\n",
        "appsDuplicados = []\n",
        "\n",
        "for i  in GoogleFile:\n",
        "  if i[0] in appsUnicos:\n",
        "    appsDuplicados.append(i[0])\n",
        "  else:\n",
        "    appsUnicos.append(i[0])\n",
        "    \n",
        "'''Vemos ao printar abaixo o tamanho do vetor que contém os aplicativos\n",
        "duplicados que realmente ocorre a duplicação de alguns apps nos dados do Google Play:'''\n",
        "print(\">>> Aplicativos duplicados: \", len(appsDuplicados))\n",
        "\n",
        "'''Printaremos alguns dos apps duplicados apenas para pegarmos 2 exemplos e \n",
        "printarmos as linhas que contém esses apps: '''\n",
        "print(\">>> Alguns dos aplicativos duplicados:\\n\", appsDuplicados[:10])\n",
        "\n",
        "'''Nos próximos 2 laços for vemos a prova de que realmente existem apps duplicados\n",
        "ao printarmos as linhas duplicadas de dois aplicativos presentes na lista de \n",
        "appsDuplicados: '''\n",
        "print(\"\\n>>> Veja as linhas duplicadas do aplicativo 'Quick PDF Scanner + OCR FREE': \")\n",
        "for j in GoogleFile:\n",
        "  if j[0] == 'Quick PDF Scanner + OCR FREE':\n",
        "    print(j)\n",
        "\n",
        "print(\"\\n>>> Veja as linhas duplicadas do aplicativo 'Slack': \")\n",
        "for j in GoogleFile:\n",
        "  if j[0] == 'Slack':\n",
        "    print(j)"
      ],
      "execution_count": 0,
      "outputs": []
    },
    {
      "cell_type": "markdown",
      "metadata": {
        "id": "tTYg4ydJhENQ",
        "colab_type": "text"
      },
      "source": [
        "EXPLICAÇÃO DO TERCEIRO PONTO:\n",
        "\n",
        "Não iremos remover as linhas duplicadas aleatoriamente, pois a maior\n",
        "diferença entre essas linhas é a posição da coluna 'Reviews' e sabemos que o\n",
        "maior número dentre essas linhas na quarta posição('Reviews') é a do dado mais \n",
        "atual. Logo, utilizaremos disso para remover as linhas duplicadas mais antigas\n",
        "e manter a mais atual."
      ]
    },
    {
      "cell_type": "markdown",
      "metadata": {
        "id": "grvR2THohSqk",
        "colab_type": "text"
      },
      "source": [
        "## 5 Removendo Entradas Duplicadas: Parte Dois"
      ]
    },
    {
      "cell_type": "code",
      "metadata": {
        "id": "iyDh8GrchU61",
        "colab_type": "code",
        "colab": {}
      },
      "source": [
        "#Dicionário com o nome dos apps e seus respectivos maiores números de reviews:\n",
        "reviews_max = {}\n",
        "for i in GoogleFile[1:]:\n",
        "  name = i[0] #nome do aplicativo\n",
        "  n_reviews = float(i[3]) #número de reviews\n",
        "  if name in reviews_max and reviews_max[name] < n_reviews:\n",
        "    reviews_max[name] = n_reviews\n",
        "  elif name not in reviews_max:\n",
        "    reviews_max[name] = n_reviews\n",
        "\n",
        "print(\"Tamanho final desejado de reviews_max: 9659. Tamanho final obtido: \", len(reviews_max))\n",
        "\n",
        "\n",
        "#Removendo as linhas duplicadas com o dicionário criado acima:\n",
        "android_clean = [] #irá guardar nosso novo conjunto de dados limpo(sem apps duplicados)\n",
        "already_added = [] #guarda o nome dos apps que já foram adicionados ao android_clean para não haver repetição\n",
        "for i in GoogleFile[1:]:\n",
        "  name = i[0] #recebe nome de cada aplicativo\n",
        "  n_reviews = float(i[3]) #recebe o número de reviews de cada aplicativo\n",
        "  if n_reviews == reviews_max[name] and name not in already_added: #\n",
        "    android_clean.append(i) #adiciona esta linha à lista android_clean\n",
        "    already_added.append(i[0]) #adiciona o nome do aplicativo à lista already_added\n",
        "\n",
        "print(\"Tamanho final desejado de android_clean: 9659. Tamanho final obtido: \", len(android_clean))"
      ],
      "execution_count": 0,
      "outputs": []
    },
    {
      "cell_type": "markdown",
      "metadata": {
        "id": "Aa0yHFlrzGNn",
        "colab_type": "text"
      },
      "source": [
        "No início do código acima, nas primeiras 12 linhas, nós criamos um dicionário com o nome 'review_max' o qual irá receber os nomes dos aplicativos e seus respectivos reviews mais atuais(maiores). Para isso, fizemos um laço for que cria uma chave com o nome do aplicativo do momento do laço e atribui o valor do review do momento para ela e adiciona ao dicionário caso ainda não tenha sido adicionado. Caso esse aplicativo já tenha sido colocado no dicionário, checamos se o review da linha atual do laço é maior(mais recente) do que o já colocado no dicionário; se sim, o valor é modificado para o da linha atual.\n",
        "\n",
        "Nas últimas 10 linhas do código acima, removemos as linhas duplicadas dos dados do Google utilizando o dicionário criado acima(review_max). Primeiramente, criamos a lista android_clean que guarda nosso novo conjunto de dados limpo(sem apps duplicados) e a lista already_added que guarda o nome dos apps que já foram adicionados ao android_clean para não haver repetição. Logo após fizemos um laço for pelo arquivo do Google Play e caso o aplicativo ainda não tenha sido adicionado à lista android_clean(checamos olhando a lista already_added) e o valor do seu review seja igual o do review_max desse aplicativo, adicionamos a linha atual do for com esses dados do aplicativo no final da lista android_clean."
      ]
    },
    {
      "cell_type": "markdown",
      "metadata": {
        "id": "3G4Rx_rfeddN",
        "colab_type": "text"
      },
      "source": [
        "## 6 Removendo aplicativos que não estão em inglês: Parte um"
      ]
    },
    {
      "cell_type": "code",
      "metadata": {
        "id": "uUDPhETM48Up",
        "colab_type": "code",
        "colab": {}
      },
      "source": [
        "#Função que checa se a palavra é do vocabulário inglês\n",
        "def confirmarCaractereIngles(string):\n",
        "  for carac in string:\n",
        "    if ord(carac) > 127:\n",
        "      return False #se tiver 1 caracterere fora da tabela ascii retorna falso(não é inglês)\n",
        "  return True #retorna True se chegar até o final(palavra é em ingles)\n",
        "\n",
        "#TESTES:\n",
        "print(confirmarCaractereIngles('Instagram'))\n",
        "print(confirmarCaractereIngles('爱奇艺PPS -《欢乐颂2》电视剧热播'))\n",
        "print(confirmarCaractereIngles('Docs To Go™ Free Office Suite'))\n",
        "print(confirmarCaractereIngles('Instachat 😜'))"
      ],
      "execution_count": 0,
      "outputs": []
    },
    {
      "cell_type": "markdown",
      "metadata": {
        "id": "WeusZHW2pK4s",
        "colab_type": "text"
      },
      "source": [
        "## 7 Removendo aplicativos que não estão em inglês: Parte dois"
      ]
    },
    {
      "cell_type": "code",
      "metadata": {
        "id": "_mPfDKFOpRzR",
        "colab_type": "code",
        "colab": {}
      },
      "source": [
        "#Função que checa se a palavra é do vocabulário inglês\n",
        "def confirmarCaractereIngles(string):\n",
        "  aux = 0\n",
        "  for carac in string:\n",
        "    if ord(carac) > 127:\n",
        "      aux +=1\n",
        "      if aux > 3:\n",
        "        return False #se tiver 3 caracteres fora da tabela ascii retorna falso(não é inglês)\n",
        "  return True #retorna True se chegar até o final(palavra é em ingles)\n",
        "\n",
        "#TESTES:\n",
        "print(confirmarCaractereIngles('Instagram'))\n",
        "print(confirmarCaractereIngles('爱奇艺PPS -《欢乐颂2》电视剧热播'))\n",
        "print(confirmarCaractereIngles('Docs To Go™ Free Office Suite'))\n",
        "print(confirmarCaractereIngles('Instachat 😜'))\n",
        "\n",
        "android_clean_english = []\n",
        "ios_english = []\n",
        "for row in android_clean:\n",
        "  aux = confirmarCaractereIngles(row[0])\n",
        "  if aux == True: #se app for em inglês adiciona no conjunto de dados limpo\n",
        "    android_clean_english.append(row)\n",
        "\n",
        "print(\"\\nTamanho do conjunto de dados limpo Android: \", len(android_clean_english))  \n",
        "  \n",
        "for row in AppleFile:\n",
        "  aux = confirmarCaractereIngles(row[1])\n",
        "  if aux == True: #se app for em inglês adiciona no conjunto de dados limpo\n",
        "    ios_english.append(row)\n",
        "print(\"Tamanho do conjunto de dados limpo IOS: \", len(ios_english))  "
      ],
      "execution_count": 0,
      "outputs": []
    },
    {
      "cell_type": "markdown",
      "metadata": {
        "id": "YCfWGslHfQAL",
        "colab_type": "text"
      },
      "source": [
        "##8 Removendo aplicativos pagos"
      ]
    },
    {
      "cell_type": "code",
      "metadata": {
        "id": "wLn6x_V4fWP6",
        "colab_type": "code",
        "colab": {}
      },
      "source": [
        "android_clean_english_free = [] #Lista que irá receber somente os aplicativos grátis (android)\n",
        "for i in android_clean_english:\n",
        "  if(i[7] == '0'): #Checagem para a inclusão de um aplicativo na lista dos apps grátis (android)\n",
        "    android_clean_english_free.append(i)\n",
        "  \n",
        "ios_english_free = [] #Lista que irá receber somente os aplicativos grátis (apple)\n",
        "for i in ios_english: \n",
        "  if(i[4] == '0.0'): #Checagem para a inclusão de um aplicativo na lista dos apps grátis (apple)\n",
        "    ios_english_free.append(i)\n",
        "\n",
        "print(\"Tamanho esperado para Android: 8864. Tamanho obtido: \", len(android_clean_english_free))\n",
        "print(\"Tamanho esperado para IOS: 3222. Tamanho obtido: \", len(ios_english_free))"
      ],
      "execution_count": 0,
      "outputs": []
    },
    {
      "cell_type": "markdown",
      "metadata": {
        "id": "ZAJgtAvvxbiz",
        "colab_type": "text"
      },
      "source": [
        "## 9 Aplicativos mais comuns pelo gênero: Parte um"
      ]
    },
    {
      "cell_type": "markdown",
      "metadata": {
        "id": "39t4XNxRd5mu",
        "colab_type": "text"
      },
      "source": [
        "Temos como foco na nossa empresa detectar os tipos de aplicativos que são mais atrativos para os usuários, pois nossa receita é influenciada pelo número de usuários que usam nossos aplicativos.\n",
        "\n",
        "\n",
        "Nosso objetivo é adicionar o aplicativo ao Google Play e ao Apple Store, para que seja um perfil que funcione bem pra ambos os mercados e o aplicativo possua produtividade. Portanto, precisamos achar perfis de aplicativos que possuem sucesso nos dois mercados. Para isso, analisaremos pegando o senso de quais são os gêneros mais comuns em cada mercado fazendo uma tabela de frequência para algumas colunas nos nossos conjuntos de dados."
      ]
    },
    {
      "cell_type": "code",
      "metadata": {
        "id": "ga6EvtoCkNRF",
        "colab_type": "code",
        "colab": {}
      },
      "source": [
        "'''Identificando as colunas que devemos usar para gerar as tabelas de\n",
        "frequência para achar quais são os gêneros mais comuns em cada mercado: '''\n",
        "print(GoogleFile[0]) #apenas para saber oq tem em cada coluna\n",
        "print(AppleFile[0]) #apenas para saber oq tem em cada coluna"
      ],
      "execution_count": 0,
      "outputs": []
    },
    {
      "cell_type": "markdown",
      "metadata": {
        "id": "rYWyAZjIpeN3",
        "colab_type": "text"
      },
      "source": [
        "*Para o Google Play  as colunas que serão utilizadas são:\n",
        "\n",
        "     -[1]: 'Category'\n",
        "     -[9]: 'Genres'\n",
        "     \n",
        " *Para a Apple Store  as colunas que serão utilizadas são:\n",
        " \n",
        "     -[11]prime_genre\n",
        "Pois essas colunas que nos darão os gêneros que mais são feitos em cada mercado."
      ]
    },
    {
      "cell_type": "markdown",
      "metadata": {
        "id": "c0__Wn9xfHMj",
        "colab_type": "text"
      },
      "source": [
        "##10 Aplicativos mais comuns pelo gênero: Parte dois"
      ]
    },
    {
      "cell_type": "code",
      "metadata": {
        "id": "RSAZTvKRfMvN",
        "colab_type": "code",
        "colab": {}
      },
      "source": [
        "def freq_table(dataset, index): \n",
        "  prime_genre = {} #Dicionário que irá contabilizar os números referentes a cada gênero\n",
        "  for i in dataset: #Laço para contagem criando uma nova key ou adicionando 1 em caso de repetição\n",
        "    if(i[index] in prime_genre):\n",
        "      prime_genre[i[index]] += (1/len(dataset))*100\n",
        "    else:\n",
        "      prime_genre[i[index]] = (1/len(dataset))*100\n",
        "  return(prime_genre)\n",
        "\n",
        "def display_table(dataset, index):\n",
        "    table = freq_table(dataset, index)\n",
        "    table_display = []\n",
        "    for key in table:\n",
        "        key_val_as_tuple = (table[key], key)\n",
        "        table_display.append(key_val_as_tuple)\n",
        "\n",
        "    table_sorted = sorted(table_display, reverse = True)\n",
        "    for entry in table_sorted:\n",
        "        print(entry[1], ':', entry[0])\n",
        "\n",
        "print(\"Apple Store [11]:'prime_genre':\")\n",
        "print(display_table(ios_english_free, 11))\n",
        "print(\"\\n\")\n",
        "print(\"Google Play [1]:'Category': \")\n",
        "print(display_table(android_clean_english_free, 1))\n",
        "print(\"\\n\")\n",
        "print(\"Google Play [9]:'Genres': \")\n",
        "print(display_table(android_clean_english_free, 9))"
      ],
      "execution_count": 0,
      "outputs": []
    },
    {
      "cell_type": "markdown",
      "metadata": {
        "id": "4lI1eDNorhvv",
        "colab_type": "text"
      },
      "source": [
        "## 11 Aplicativos mais comuns pelo gênero: Parte três"
      ]
    },
    {
      "cell_type": "markdown",
      "metadata": {
        "id": "HH4OVBiiowEq",
        "colab_type": "text"
      },
      "source": [
        "- Analizando a tabela de frequência gerada pela coluna **prime_genre** da Apple Store:\n",
        "\n",
        "  - Analizando a tabela de frequência gerada no item passado pela coluna 'prime_genre' do conjunto de dados da Apple Store, podemos observar que o gênero mais comum é o de Jogos. Já o vice-campeão é o gênero Entretenimento.\n",
        "  - Outros padrões que podemos ver são aplicativos para Foto e Vídeo, Educação, Redes Sociais, compras, etc.\n",
        "  - A maioria dos aplicativos são direcionados mais para diversão e entretenimento, já que mais da metade dos aplicativos são do gênero Jogos.\n",
        "  - Para a Apple Store, nós recomendaríamos um perfil de aplicativos voltado mais para a diversão, como aplicativos para jogos, já que pela tabela de frequência podemos observar que o maior número de aplicativos da Apple Store é voltado para esse gênero. Porém, não necessariamente porque se há um grande número de aplicativos de um gênero particular, significa que esse aplicativo terá um grande número de usuários, porém é mais provável.\n",
        "  \n",
        "\n",
        "---\n",
        "\n",
        "\n",
        "- Analizando a tabela de frequência gerada pelas colunas **Category** e **Genres** do Google Play:\n",
        "\n",
        "  - Os gêneros mais comuns dessa tabela de frequência são do gênero Família e Ferramentas.\n",
        "  - Outros padrões que podemos ver são aplicativos para Jogos, Negócios, Entretenimento, Educação, etc.\n",
        "  - Na Apple Store a grande maioria dos aplicativos são direcionados para diversão, como jogos, já no Google Play, vemos algo mais balanceado, como aplicativos mais voltados para a família e também para diversão, e também  uma menor discrepância entre as porcentagens se comparado à Apple Store, onde a coluna Jogos tem uma porcentagem de aproximadamente 58%.\n",
        "  - Para o Google Play, após uma análise da tabela de frequência gerada, nós recomendaríamos um perfil de aplicativos voltados tanto práticos quanto para diversão. A tabela de frequência nos mostra quais são os gêneros de aplicativos mais frequêntes, porém, não nos mostra quais gêneros possuem mais usuários."
      ]
    },
    {
      "cell_type": "markdown",
      "metadata": {
        "id": "mWn9NusD2PfQ",
        "colab_type": "text"
      },
      "source": [
        "## 12 Aplicativos mais populares pelo gênero na Apple Store"
      ]
    },
    {
      "cell_type": "code",
      "metadata": {
        "id": "ZF_VpaQK2XR0",
        "colab_type": "code",
        "colab": {}
      },
      "source": [
        "prime_genre = freq_table(ios_english_free, 11)\n",
        "average_and_genre = {} #dicionario: {\"average\":genre} para poder colocar a classificação dos usuários em ordem descrescente\n",
        "for genre in prime_genre:\n",
        "  total = 0 #soma das classificações dos usuários\n",
        "  len_genre = 0 #armazena o número de apps específicos para cada gênero\n",
        "  for i in ios_english_free:\n",
        "    genre_app = i[11]\n",
        "    if(genre == genre_app):\n",
        "      total += float(i[5]) #coluna do 'rating_count_tot'\n",
        "      len_genre += 1\n",
        "  average_and_genre[total/len_genre] = genre\n",
        "'''For para printar o gênero do app e a sua classificação pelos \n",
        "usuários na ordem descrescente:'''\n",
        "for j in sorted(average_and_genre, reverse=True):\n",
        "  print(\"Gênero do Aplicativo: \", average_and_genre[j], \". Média da classificação dos usuários: \", j, \"\\n\")"
      ],
      "execution_count": 0,
      "outputs": []
    },
    {
      "cell_type": "markdown",
      "metadata": {
        "id": "6ir75pPLFfN1",
        "colab_type": "text"
      },
      "source": [
        "Analizando os resultados, chegamos a conclusão de que a recomendação de perfil de aplicativo para a Apple Store são aplicativos do gênero Navegação, pois são os que possuem melhor classificação pelos usuários segundo a análise feita acima.\n",
        "\n",
        "---\n",
        "\n"
      ]
    },
    {
      "cell_type": "markdown",
      "metadata": {
        "id": "lB43HlMNG08p",
        "colab_type": "text"
      },
      "source": [
        "## 13 Aplicativos mais populares pelo gênero no Google Play"
      ]
    },
    {
      "cell_type": "code",
      "metadata": {
        "id": "II7Z83xGG6Ft",
        "colab_type": "code",
        "colab": {}
      },
      "source": [
        "categories = freq_table(android_clean_english_free, 1)\n",
        "average_and_genre2 = {} #dicionario: {average:\"genre\"} para poder colocar o nº de instalações em ordem descrescente\n",
        "for category in categories:\n",
        "  total = 0 #soma das instalações dos usuários\n",
        "  len_category = 0 #armazena o número de apps específicos para cada gênero\n",
        "  for i in android_clean_english_free:\n",
        "    category_app = i[1]\n",
        "    if(category == category_app):\n",
        "      install = i[5]\n",
        "      install = install.replace('+', '')\n",
        "      install = install.replace(',', '')\n",
        "      total += float(install)\n",
        "      len_category += 1\n",
        "  average_and_genre2[total/len_category] = category\n",
        "      \n",
        "      \n",
        "for j in sorted(average_and_genre2, reverse=True):\n",
        "  print(\"Gênero do Aplicativo: \", average_and_genre2[j], \". Média do número de instalações: \", j, \"\\n\")"
      ],
      "execution_count": 0,
      "outputs": []
    },
    {
      "cell_type": "markdown",
      "metadata": {
        "id": "OtT6hSg-SnAi",
        "colab_type": "text"
      },
      "source": [
        "Analizando os resultados, chegamos a conclusão de que a recomendação de perfil de aplicativo para o Google Play seriam aplicativos do gênero Comunicação, pois são os que possuem maior número de instalação segundo a análise feita acima. Porém, como a empesa tem a meta de recomendar um gênero de aplicativo que mostre potencial por ser rentável na Apple Store e no Google Play, chegamos a conclusão de que o gênero Social/Social Networking é o mais adequado."
      ]
    }
  ]
}
